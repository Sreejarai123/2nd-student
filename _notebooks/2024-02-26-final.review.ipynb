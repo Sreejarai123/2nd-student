{
 "cells": [
  {
   "cell_type": "markdown",
   "metadata": {},
   "source": [
    "Condensed Project Review\n",
    "- With our school wifi blocking majority of our online games. Our team had the idea to create our own version of cool math, calling it CATS cool math. We each worked and developed our own game and created individual features as well as linking a login page to get acess to the games. Our main goal was to create easy accessibility to online gaming. "
   ]
  },
  {
   "cell_type": "markdown",
   "metadata": {},
   "source": [
    "My Feature:\n",
    "\n",
    "- My feature is a ping pong game that allows the user to play ping pong with themselves. It also has a feature to slow down the ping pong ball, the paddles, and the acceleration of the game. When a new user is added into the database they can store their highest ping pong score.\n",
    "\n",
    "https://apcentral.collegeboard.org/media/pdf/ap-csp-student-task-directions.pdf"
   ]
  },
  {
   "cell_type": "markdown",
   "metadata": {},
   "source": [
    "Collegeboard Requirements |\tMe\n",
    "Instructions for input from one of the following: the user, a device, an online datas stream, a file.\n",
    "- Our Project takes in an input which is the user page login and signup page in which their data gets saved and shows them their output of our game pages. Three out of the four games show and input of the arrow keys (for instance in ping pong it is the \"a\" and \"d\" keys) and the output is the pieces of the game you move which intend for you to get a better score (the paddles move to hit the ball)\n",
    "\n",
    "Use of at least one list (or other collection type) to represent a collectino of data that is stored and used to manage program complexity and help fulfill the users purpose.\t\n",
    "- We are storing all collections in SQLite table and using JSON collection to pass data from frontend to and from backend. Our data collection is utilized in our database login and signup page, where a new user gets added into the database and then has acess to login. \n",
    "\n",
    "At least one procedure that contirubted to the program’s intened purpose where you have defined:\n",
    "- the name, return type, one or more parameters:This procedure has a name(post), a return(response), and parameters(self): procedure\n",
    "https://github.com/Sreejarai123/sreeja2ndtri/issues/url\n",
    "\n",
    "An algorithm that includes sequencing, selection, and iteration that is in the body of the selected procedure\t\n",
    "- This function shows the sequencing, selection, and iteration through a list of meme images: sequencing\n",
    "\n",
    "Calls to your student-developed prodcedure:\tcalling queryImages: calling\n",
    "- \n",
    "\n",
    "Instructions for output (tactile, audible, visual, or ) based on input and program functionality\tThis code is the fetch that gets the database and fethces from the backend: fetch\n",
    "https://github.com/Sreejarai123/flask_portfolio_cats/assets/142522690/7c48a6f4-bcdd-457f-a918-be4fb0a3c50e "
   ]
  }
 ],
 "metadata": {
  "language_info": {
   "name": "python"
  },
  "orig_nbformat": 4
 },
 "nbformat": 4,
 "nbformat_minor": 2
}
