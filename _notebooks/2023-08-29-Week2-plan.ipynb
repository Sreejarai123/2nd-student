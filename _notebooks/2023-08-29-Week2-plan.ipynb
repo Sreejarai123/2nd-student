{
 "cells": [
  {
   "cell_type": "code",
   "execution_count": null,
   "metadata": {},
   "outputs": [],
   "source": []
  },
  {
   "cell_type": "markdown",
   "metadata": {},
   "source": [
    "---\n",
    "layout: post\n",
    "title: test\n",
    "description: This is a test\n",
    "toc: true\n",
    "comments: true\n",
    "courses: {CompSci: {week: 3} }\n",
    "type: hacks\n",
    "---"
   ]
  }
 ],
 "metadata": {
  "language_info": {
   "name": "python"
  },
  "orig_nbformat": 4
 },
 "nbformat": 4,
 "nbformat_minor": 2
}
