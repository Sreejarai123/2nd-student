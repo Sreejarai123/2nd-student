{
 "cells": [
  {
   "cell_type": "code",
   "execution_count": 6,
   "metadata": {},
   "outputs": [
    {
     "data": {
      "application/javascript": "\nvar numbers = [];\nvar newNumbers = [];\n\nfor (var i = 0; i < 100; i++) {\n    numbers.push(i);\n}\n\nfor (var i = 0; i < numbers.length; i++) {\n    if (numbers[i] % 5 === 0 || numbers[i] % 2 === 0) {\n        newNumbers.push(numbers[i]);\n    }\n}\n\nconsole.log(newNumbers);\n\n\n",
      "text/plain": [
       "<IPython.core.display.Javascript object>"
      ]
     },
     "metadata": {},
     "output_type": "display_data"
    }
   ],
   "source": [
    "%%js\n",
    "\n",
    "var numbers = [];\n",
    "var newNumbers = [];\n",
    "\n",
    "for (var i = 0; i < 100; i++) {\n",
    "    numbers.push(i);\n",
    "}\n",
    "\n",
    "for (var i = 0; i < numbers.length; i++) {\n",
    "    if (numbers[i] % 5 === 0 || numbers[i] % 2 === 0) {\n",
    "        newNumbers.push(numbers[i]);\n",
    "    }\n",
    "}\n",
    "\n",
    "console.log(newNumbers);\n",
    "\n",
    "\n"
   ]
  },
  {
   "cell_type": "markdown",
   "metadata": {},
   "source": [
    "We initialize the numbers and newNumbers arrays.\n",
    "\n",
    "We use a for loop to populate the numbers array with numbers from 0 to 99.\n",
    "\n",
    "We use another for loop to iterate through the numbers array and check if each number is divisible by 5 or even. If it is, we push it into the newNumbers array.\n",
    "\n",
    "Finally, we log the newNumbers array to the console"
   ]
  },
  {
   "cell_type": "code",
   "execution_count": 7,
   "metadata": {},
   "outputs": [
    {
     "data": {
      "application/javascript": "\nlet odds = [];\nlet i = 1;\n\nwhile (i < 10) {\n  odds.push(i);\n  i += 2;\n}\n\nconsole.log(odds);\n",
      "text/plain": [
       "<IPython.core.display.Javascript object>"
      ]
     },
     "metadata": {},
     "output_type": "display_data"
    }
   ],
   "source": [
    "%%js\n",
    "\n",
    "let odds = [];\n",
    "let i = 1;\n",
    "\n",
    "while (i < 10) {\n",
    "  odds.push(i);\n",
    "  i += 2;\n",
    "}\n",
    "\n",
    "console.log(odds);\n"
   ]
  },
  {
   "cell_type": "markdown",
   "metadata": {},
   "source": [
    "changes was that it was showing even when it was supposed to be saying odd so wherever it said even i just changed it to say odd"
   ]
  },
  {
   "cell_type": "code",
   "execution_count": 8,
   "metadata": {},
   "outputs": [
    {
     "data": {
      "application/javascript": "\nvar alphabet = \"abcdefghijklmnopqrstuvwxyz\";\nvar alphabetList = [];\n\nfor (var i = 0; i < alphabet.length; i++) {\n\talphabetList.push(alphabet[i]);\n}\n\nconsole.log(alphabetList);\n",
      "text/plain": [
       "<IPython.core.display.Javascript object>"
      ]
     },
     "metadata": {},
     "output_type": "display_data"
    }
   ],
   "source": [
    "%%js\n",
    "\n",
    "var alphabet = \"abcdefghijklmnopqrstuvwxyz\";\n",
    "var alphabetList = [];\n",
    "\n",
    "for (var i = 0; i < alphabet.length; i++) {\n",
    "\talphabetList.push(alphabet[i]);\n",
    "}\n",
    "\n",
    "console.log(alphabetList);\n"
   ]
  },
  {
   "cell_type": "markdown",
   "metadata": {},
   "source": [
    "in order to show all of the alphabet we just needed to change the dimension from bieng 0<10 to go till the alphabet length>"
   ]
  },
  {
   "cell_type": "code",
   "execution_count": 9,
   "metadata": {},
   "outputs": [
    {
     "data": {
      "application/javascript": "\nvar alphabet = \"abcdefghijklmnopqrstuvwxyz\";\nvar alphabetList = [];\n\nfor (var i = 0; i < alphabet.length; i++) {\n\talphabetList.push(alphabet[i]);\n}\n\nlet letterNumber = 5; // The index is zero-based\n\nif (letterNumber >= 0 && letterNumber < alphabetList.length) {\n    let letter = alphabetList[letterNumber];\n    console.log(`\"${letter}\" is letter number ${letterNumber + 1} in the alphabet`);\n} else {\n    console.log(\"Letter number is out of range\");\n}\n",
      "text/plain": [
       "<IPython.core.display.Javascript object>"
      ]
     },
     "metadata": {},
     "output_type": "display_data"
    }
   ],
   "source": [
    "%%js\n",
    "\n",
    "var alphabet = \"abcdefghijklmnopqrstuvwxyz\";\n",
    "var alphabetList = [];\n",
    "\n",
    "for (var i = 0; i < alphabet.length; i++) {\n",
    "\talphabetList.push(alphabet[i]);\n",
    "}\n",
    "\n",
    "let letterNumber = 5; // The index is zero-based\n",
    "\n",
    "if (letterNumber >= 0 && letterNumber < alphabetList.length) {\n",
    "    let letter = alphabetList[letterNumber];\n",
    "    console.log(`\"${letter}\" is letter number ${letterNumber + 1} in the alphabet`);\n",
    "} else {\n",
    "    console.log(\"Letter number is out of range\");\n",
    "}\n"
   ]
  },
  {
   "cell_type": "markdown",
   "metadata": {},
   "source": [
    "changed it to make it so that it was the letter+1 because since it started at zero it was shifted"
   ]
  }
 ],
 "metadata": {
  "kernelspec": {
   "display_name": "Python 3",
   "language": "python",
   "name": "python3"
  },
  "language_info": {
   "codemirror_mode": {
    "name": "ipython",
    "version": 3
   },
   "file_extension": ".py",
   "mimetype": "text/x-python",
   "name": "python",
   "nbconvert_exporter": "python",
   "pygments_lexer": "ipython3",
   "version": "3.11.5"
  },
  "orig_nbformat": 4
 },
 "nbformat": 4,
 "nbformat_minor": 2
}
